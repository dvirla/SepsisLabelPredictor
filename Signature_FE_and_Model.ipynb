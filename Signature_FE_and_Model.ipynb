{
 "cells": [
  {
   "cell_type": "code",
   "execution_count": 1,
   "id": "e2a6d68e",
   "metadata": {},
   "outputs": [],
   "source": [
    "%load_ext autoreload\n",
    "%autoreload 2"
   ]
  },
  {
   "cell_type": "code",
   "execution_count": 11,
   "id": "17f747d0",
   "metadata": {},
   "outputs": [],
   "source": [
    "from sklearn.metrics import f1_score\n",
    "from sklearn.pipeline import Pipeline\n",
    "from sklearn.model_selection import GridSearchCV, cross_val_score\n",
    "import xgboost as xgb\n",
    "from utils import data_handler, feature_selection\n",
    "import pickle"
   ]
  },
  {
   "cell_type": "markdown",
   "id": "7f91ecc8",
   "metadata": {},
   "source": [
    "## Read Train Data and Aggregate"
   ]
  },
  {
   "cell_type": "code",
   "execution_count": 71,
   "id": "2ee40bba",
   "metadata": {},
   "outputs": [
    {
     "name": "stderr",
     "output_type": "stream",
     "text": [
      "100%|██████████| 20000/20000 [01:08<00:00, 290.51it/s]\n"
     ]
    }
   ],
   "source": [
    "# X, y = data_handler.get_model_prepared_dataset('./data/train/')"
   ]
  },
  {
   "cell_type": "code",
   "execution_count": 72,
   "id": "93f3c44b",
   "metadata": {},
   "outputs": [],
   "source": [
    "# with open('data/X_y.pkl', 'wb') as f:\n",
    "#     pickle.dump((X, y), f)"
   ]
  },
  {
   "cell_type": "code",
   "execution_count": 3,
   "id": "abce8ef7",
   "metadata": {},
   "outputs": [],
   "source": [
    "with open('data/X_y.pkl', 'rb') as f:\n",
    "        X, y = pickle.load(f)"
   ]
  },
  {
   "cell_type": "markdown",
   "id": "a8349f6f",
   "metadata": {},
   "source": [
    "### Fit Logistic Regression and use only features with betas that are not zero\n",
    "### TODO: Decide if we want to play with coef_cutoff"
   ]
  },
  {
   "cell_type": "code",
   "execution_count": 73,
   "id": "7089fba8",
   "metadata": {},
   "outputs": [
    {
     "name": "stdout",
     "output_type": "stream",
     "text": [
      "Columns removed are: Index(['pH_7', 'Chloride_7', 'Potassium_5', 'Potassium_7', 'Hgb_7', 'SOFA_3',\n",
      "       'SOFA_6', 'SOFA_8', 'SOFA_9', 'O2Sat_nanstd', 'BaseExcess_skew',\n",
      "       'SaO2_skew', 'Calcium_nanmean', 'Calcium_nanmedian', 'Chloride_skew',\n",
      "       'Creatinine_nanmean', 'Creatinine_nanmedian', 'Magnesium_nanmean',\n",
      "       'Phosphate_nanstd', 'WBC_nanmean'],\n",
      "      dtype='object')\n"
     ]
    }
   ],
   "source": [
    "remove_cols = feature_selection.get_remove_cols_from_logistic_regression(X, y, coef_cutoff=0.005)"
   ]
  },
  {
   "cell_type": "markdown",
   "id": "32f9ce2c",
   "metadata": {},
   "source": [
    "# XGBoost Model"
   ]
  },
  {
   "cell_type": "code",
   "execution_count": 74,
   "id": "869de2ab",
   "metadata": {},
   "outputs": [],
   "source": [
    "# args = {'gamma': 1, 'learning_rate': 0.001, 'max_depth': 4,'subsample': 0.6}\n",
    "# args = {'gamma': 1, 'learning_rate': 0.1, 'max_depth': 9, 'subsample': 0.6}\n",
    "args = {'gamma': 0.5, 'learning_rate': 0.15, 'max_depth': 11, 'subsample': 0.6}\n",
    "pipe = Pipeline([\n",
    "    ('remove_cols', data_handler.RemoveColsTransformer(remove_cols=remove_cols)),\n",
    "    ('impute', data_handler.CustomImputerTransformer()),\n",
    "    ('xgboost', xgb.XGBClassifier(**args))\n",
    "])"
   ]
  },
  {
   "cell_type": "code",
   "execution_count": 75,
   "id": "35c29df2",
   "metadata": {},
   "outputs": [
    {
     "data": {
      "text/plain": [
       "Pipeline(steps=[('remove_cols',\n",
       "                 RemoveColsTransformer(remove_cols=Index(['pH_7', 'Chloride_7', 'Potassium_5', 'Potassium_7', 'Hgb_7', 'SOFA_3',\n",
       "       'SOFA_6', 'SOFA_8', 'SOFA_9', 'O2Sat_nanstd', 'BaseExcess_skew',\n",
       "       'SaO2_skew', 'Calcium_nanmean', 'Calcium_nanmedian', 'Chloride_skew',\n",
       "       'Creatinine_nanmean', 'Creatinine_nanmedian', 'Magnesium_nanmean',\n",
       "       'Phosphate_nanstd', 'WBC...\n",
       "                               gamma=0.5, gpu_id=-1, grow_policy='depthwise',\n",
       "                               importance_type=None, interaction_constraints='',\n",
       "                               learning_rate=0.15, max_bin=256,\n",
       "                               max_cat_to_onehot=4, max_delta_step=0,\n",
       "                               max_depth=11, max_leaves=0, min_child_weight=1,\n",
       "                               missing=nan, monotone_constraints='()',\n",
       "                               n_estimators=100, n_jobs=0, num_parallel_tree=1,\n",
       "                               predictor='auto', random_state=0, reg_alpha=0,\n",
       "                               reg_lambda=1, ...))])"
      ]
     },
     "execution_count": 75,
     "metadata": {},
     "output_type": "execute_result"
    }
   ],
   "source": [
    "pipe.fit(X, y)"
   ]
  },
  {
   "cell_type": "code",
   "execution_count": 76,
   "id": "ce66e480",
   "metadata": {},
   "outputs": [
    {
     "data": {
      "text/plain": [
       "399"
      ]
     },
     "execution_count": 76,
     "metadata": {},
     "output_type": "execute_result"
    }
   ],
   "source": [
    "pipe.steps[2][1].n_features_in_"
   ]
  },
  {
   "cell_type": "code",
   "execution_count": 85,
   "id": "22b3b50d",
   "metadata": {},
   "outputs": [],
   "source": [
    "with open('./model.pkl', 'wb') as f:\n",
    "    pickle.dump(pipe, f)"
   ]
  },
  {
   "cell_type": "markdown",
   "id": "5bda41d3",
   "metadata": {},
   "source": [
    "## Cross-Validation"
   ]
  },
  {
   "cell_type": "code",
   "execution_count": 17,
   "id": "737592f6",
   "metadata": {},
   "outputs": [],
   "source": [
    "scores = cross_val_score(pipe, X, y, cv=5, scoring='f1')"
   ]
  },
  {
   "cell_type": "code",
   "execution_count": 20,
   "id": "4b714751",
   "metadata": {},
   "outputs": [
    {
     "data": {
      "text/plain": [
       "0.7236"
      ]
     },
     "execution_count": 20,
     "metadata": {},
     "output_type": "execute_result"
    }
   ],
   "source": [
    "import numpy as np\n",
    "np.mean([np.around(score, 3) for score in scores])"
   ]
  },
  {
   "cell_type": "markdown",
   "id": "e2e1cb9b",
   "metadata": {},
   "source": [
    "## Testing model"
   ]
  },
  {
   "cell_type": "code",
   "execution_count": 77,
   "id": "58c14337",
   "metadata": {
    "scrolled": true
   },
   "outputs": [
    {
     "name": "stderr",
     "output_type": "stream",
     "text": [
      "100%|██████████| 10000/10000 [00:34<00:00, 291.34it/s]\n"
     ]
    }
   ],
   "source": [
    "# X_test, ytrue = data_handler.get_model_prepared_dataset('./data/test/')"
   ]
  },
  {
   "cell_type": "code",
   "execution_count": 78,
   "id": "961ded31",
   "metadata": {},
   "outputs": [],
   "source": [
    "# with open('data/X_test_y_ture.pkl', 'wb') as f:\n",
    "#     pickle.dump((X_test, ytrue), f)"
   ]
  },
  {
   "cell_type": "code",
   "execution_count": 8,
   "id": "9177c923",
   "metadata": {},
   "outputs": [],
   "source": [
    "with open('data/X_test_y_ture.pkl', 'rb') as f:\n",
    "    X_test, ytrue = pickle.load(f)"
   ]
  },
  {
   "cell_type": "code",
   "execution_count": 79,
   "id": "6c21a1c3",
   "metadata": {
    "scrolled": true
   },
   "outputs": [
    {
     "data": {
      "text/plain": [
       "0.7335968379446641"
      ]
     },
     "execution_count": 79,
     "metadata": {},
     "output_type": "execute_result"
    }
   ],
   "source": [
    "ypreds = pipe.predict(X_test)\n",
    "f1_score(ytrue, ypreds)"
   ]
  },
  {
   "cell_type": "code",
   "execution_count": 84,
   "id": "d4172bd9",
   "metadata": {},
   "outputs": [
    {
     "data": {
      "text/plain": [
       "{'SepsisLabel_nanmax',\n",
       " 'SepsisLabel_nanmean',\n",
       " 'SepsisLabel_nanmedian',\n",
       " 'SepsisLabel_nanmin',\n",
       " 'SepsisLabel_nanstd',\n",
       " 'SepsisLabel_skew'}"
      ]
     },
     "execution_count": 84,
     "metadata": {},
     "output_type": "execute_result"
    }
   ],
   "source": [
    "set(X_real_test.columns) - set(X_test.columns)"
   ]
  },
  {
   "cell_type": "code",
   "execution_count": 10,
   "id": "ac7ff0a9",
   "metadata": {
    "scrolled": true
   },
   "outputs": [
    {
     "data": {
      "text/plain": [
       "0.7335968379446641"
      ]
     },
     "execution_count": 10,
     "metadata": {},
     "output_type": "execute_result"
    }
   ],
   "source": [
    "ypreds = pipe.predict(X_test)\n",
    "f1_score(ytrue, ypreds)"
   ]
  },
  {
   "cell_type": "code",
   "execution_count": 11,
   "id": "be2d94ac",
   "metadata": {},
   "outputs": [],
   "source": [
    "with open('./model.pkl', 'rb') as f:\n",
    "    pipe = pickle.load(f)"
   ]
  },
  {
   "cell_type": "code",
   "execution_count": 10,
   "id": "cc2562ad",
   "metadata": {
    "scrolled": true
   },
   "outputs": [
    {
     "data": {
      "text/plain": [
       "0.7335968379446641"
      ]
     },
     "execution_count": 10,
     "metadata": {},
     "output_type": "execute_result"
    }
   ],
   "source": [
    "ypreds = pipe.predict(X_test)\n",
    "f1_score(ytrue, ypreds)"
   ]
  },
  {
   "cell_type": "code",
   "execution_count": 21,
   "id": "20fb657e",
   "metadata": {},
   "outputs": [
    {
     "data": {
      "text/plain": [
       "0.9996465182043125"
      ]
     },
     "execution_count": 21,
     "metadata": {},
     "output_type": "execute_result"
    }
   ],
   "source": [
    "train_ypreds = pipe.predict(X)\n",
    "f1_score(y, train_ypreds)"
   ]
  },
  {
   "cell_type": "markdown",
   "id": "089b2105",
   "metadata": {},
   "source": [
    "# Random Forest\n"
   ]
  },
  {
   "cell_type": "code",
   "execution_count": 22,
   "id": "6569fdbd",
   "metadata": {},
   "outputs": [
    {
     "data": {
      "text/plain": [
       "Pipeline(steps=[('remove_cols',\n",
       "                 RemoveColsTransformer(remove_cols=Index(['pH_7', 'Chloride_7', 'Potassium_5', 'Potassium_7', 'Hgb_7', 'SOFA_3',\n",
       "       'SOFA_6', 'SOFA_8', 'SOFA_9', 'O2Sat_nanstd', 'BaseExcess_skew',\n",
       "       'SaO2_skew', 'Calcium_nanmean', 'Calcium_nanmedian', 'Chloride_skew',\n",
       "       'Creatinine_nanmean', 'Creatinine_nanmedian', 'Magnesium_nanmean',\n",
       "       'Phosphate_nanstd', 'WBC_nanmean'],\n",
       "      dtype='object'))),\n",
       "                ('impute', CustomImputerTransformer()),\n",
       "                ('RF', RandomForestClassifier(random_state=42))])"
      ]
     },
     "execution_count": 22,
     "metadata": {},
     "output_type": "execute_result"
    }
   ],
   "source": [
    "from sklearn.ensemble import RandomForestClassifier\n",
    "from sklearn.datasets import make_classification\n",
    "\n",
    "args = {'criterion': 'gini', 'max_depth': None, 'max_features': 'auto', 'n_estimators': 100}\n",
    "rf_pipe = Pipeline([\n",
    "    ('remove_cols', data_handler.RemoveColsTransformer(remove_cols=remove_cols)),\n",
    "    ('impute', data_handler.CustomImputerTransformer()),\n",
    "    ('RF', RandomForestClassifier(random_state=42, **args))\n",
    "])\n",
    "rf_pipe.fit(X, y)\n"
   ]
  },
  {
   "cell_type": "code",
   "execution_count": 23,
   "id": "e8fccad2",
   "metadata": {},
   "outputs": [
    {
     "data": {
      "text/plain": [
       "0.6267029972752044"
      ]
     },
     "execution_count": 23,
     "metadata": {},
     "output_type": "execute_result"
    }
   ],
   "source": [
    "ypreds = rf_pipe.predict(X_test)\n",
    "f1_score(ytrue, ypreds)"
   ]
  },
  {
   "cell_type": "code",
   "execution_count": 27,
   "id": "f7f86b9a",
   "metadata": {},
   "outputs": [],
   "source": [
    "with open('./rf_model.pkl', 'wb') as f:\n",
    "    pickle.dump(rf_pipe, f)"
   ]
  },
  {
   "cell_type": "markdown",
   "id": "24a37075",
   "metadata": {},
   "source": [
    "## Cross-Validation"
   ]
  },
  {
   "cell_type": "code",
   "execution_count": 24,
   "id": "9480910d",
   "metadata": {},
   "outputs": [
    {
     "data": {
      "text/plain": [
       "0.6326"
      ]
     },
     "execution_count": 24,
     "metadata": {},
     "output_type": "execute_result"
    }
   ],
   "source": [
    "scores = cross_val_score(rf_pipe, X, y, cv=5, scoring='f1')\n",
    "np.mean([np.around(score, 3) for score in scores])"
   ]
  },
  {
   "cell_type": "code",
   "execution_count": 25,
   "id": "82acf33d",
   "metadata": {},
   "outputs": [
    {
     "data": {
      "text/plain": [
       "0.9996465182043125"
      ]
     },
     "execution_count": 25,
     "metadata": {},
     "output_type": "execute_result"
    }
   ],
   "source": [
    "train_ypreds = rf_pipe.predict(X)\n",
    "f1_score(y, train_ypreds)"
   ]
  }
 ],
 "metadata": {
  "kernelspec": {
   "display_name": "Python 3",
   "language": "python",
   "name": "python3"
  },
  "language_info": {
   "codemirror_mode": {
    "name": "ipython",
    "version": 3
   },
   "file_extension": ".py",
   "mimetype": "text/x-python",
   "name": "python",
   "nbconvert_exporter": "python",
   "pygments_lexer": "ipython3",
   "version": "3.8.8"
  }
 },
 "nbformat": 4,
 "nbformat_minor": 5
}
